{
 "cells": [
  {
   "cell_type": "code",
   "execution_count": 9,
   "metadata": {},
   "outputs": [],
   "source": [
    "# Using python3.6\n",
    "from pyproj import Proj, transform\n",
    "import pandas as pd\n",
    "import pyproj"
   ]
  },
  {
   "cell_type": "code",
   "execution_count": 19,
   "metadata": {},
   "outputs": [],
   "source": [
    "events = pd.read_excel(\"Dataset Exploration\\events.xlsx\", engine='openpyxl')"
   ]
  },
  {
   "cell_type": "code",
   "execution_count": 28,
   "metadata": {},
   "outputs": [
    {
     "data": {
      "text/html": [
       "<div>\n",
       "<style scoped>\n",
       "    .dataframe tbody tr th:only-of-type {\n",
       "        vertical-align: middle;\n",
       "    }\n",
       "\n",
       "    .dataframe tbody tr th {\n",
       "        vertical-align: top;\n",
       "    }\n",
       "\n",
       "    .dataframe thead th {\n",
       "        text-align: right;\n",
       "    }\n",
       "</style>\n",
       "<table border=\"1\" class=\"dataframe\">\n",
       "  <thead>\n",
       "    <tr style=\"text-align: right;\">\n",
       "      <th></th>\n",
       "      <th>Skapad_År</th>\n",
       "      <th>Skapad_Månad</th>\n",
       "      <th>NAME</th>\n",
       "      <th>EVENT_CODE</th>\n",
       "      <th>EVENT_TEXT</th>\n",
       "      <th>Location_text</th>\n",
       "      <th>Väg</th>\n",
       "      <th>Riktning</th>\n",
       "      <th>LANE_MASK</th>\n",
       "      <th>CREATION_TIME</th>\n",
       "      <th>COMPLETION_TIME</th>\n",
       "      <th>START_TIME</th>\n",
       "      <th>END_TIME</th>\n",
       "      <th>Note</th>\n",
       "      <th>X</th>\n",
       "      <th>Y</th>\n",
       "    </tr>\n",
       "  </thead>\n",
       "  <tbody>\n",
       "    <tr>\n",
       "      <th>0</th>\n",
       "      <td>2019</td>\n",
       "      <td>Januari</td>\n",
       "      <td>2019-01-01/03:34:40-1/4</td>\n",
       "      <td>35</td>\n",
       "      <td>Olycka</td>\n",
       "      <td>E4 från Trafikplats Sörljusne (204) till Trafi...</td>\n",
       "      <td>E4</td>\n",
       "      <td>Syd</td>\n",
       "      <td>OOOOOOOOX|OOOOOOOOO</td>\n",
       "      <td>2019-01-01 03:34:40</td>\n",
       "      <td>2019-01-01 06:01:30</td>\n",
       "      <td>2019-01-01 03:34:40</td>\n",
       "      <td>2019-01-01 06:15:00</td>\n",
       "      <td>I höjd med Böles-Noran i södergående. En perso...</td>\n",
       "      <td>6774947</td>\n",
       "      <td>606946</td>\n",
       "    </tr>\n",
       "    <tr>\n",
       "      <th>1</th>\n",
       "      <td>2019</td>\n",
       "      <td>Januari</td>\n",
       "      <td>2019-01-01/05:17:01-1/4</td>\n",
       "      <td>379</td>\n",
       "      <td>Skadat räcke #</td>\n",
       "      <td>E4 från Trafikplats Sörljusne (204) till Trafi...</td>\n",
       "      <td>E4</td>\n",
       "      <td>Syd</td>\n",
       "      <td>OOOOOOOOX|OOOOOOOOO</td>\n",
       "      <td>2019-01-01 05:17:00</td>\n",
       "      <td>2019-01-01 05:18:02</td>\n",
       "      <td>2019-01-01 05:17:01</td>\n",
       "      <td>2019-01-01 16:00:00</td>\n",
       "      <td>I höjd med Böles-Noran i södergående. En perso...</td>\n",
       "      <td>6787923</td>\n",
       "      <td>609936</td>\n",
       "    </tr>\n",
       "  </tbody>\n",
       "</table>\n",
       "</div>"
      ],
      "text/plain": [
       "   Skapad_År Skapad_Månad                     NAME  EVENT_CODE  \\\n",
       "0       2019    Januari    2019-01-01/03:34:40-1/4          35   \n",
       "1       2019    Januari    2019-01-01/05:17:01-1/4         379   \n",
       "\n",
       "       EVENT_TEXT                                      Location_text Väg  \\\n",
       "0          Olycka  E4 från Trafikplats Sörljusne (204) till Trafi...  E4   \n",
       "1  Skadat räcke #  E4 från Trafikplats Sörljusne (204) till Trafi...  E4   \n",
       "\n",
       "  Riktning            LANE_MASK       CREATION_TIME     COMPLETION_TIME  \\\n",
       "0      Syd  OOOOOOOOX|OOOOOOOOO 2019-01-01 03:34:40 2019-01-01 06:01:30   \n",
       "1      Syd  OOOOOOOOX|OOOOOOOOO 2019-01-01 05:17:00 2019-01-01 05:18:02   \n",
       "\n",
       "           START_TIME             END_TIME  \\\n",
       "0 2019-01-01 03:34:40  2019-01-01 06:15:00   \n",
       "1 2019-01-01 05:17:01  2019-01-01 16:00:00   \n",
       "\n",
       "                                                Note        X       Y  \n",
       "0  I höjd med Böles-Noran i södergående. En perso...  6774947  606946  \n",
       "1  I höjd med Böles-Noran i södergående. En perso...  6787923  609936  "
      ]
     },
     "execution_count": 28,
     "metadata": {},
     "output_type": "execute_result"
    }
   ],
   "source": [
    "events.head(2)"
   ]
  },
  {
   "cell_type": "code",
   "execution_count": 21,
   "metadata": {},
   "outputs": [],
   "source": [
    "previous_coords = events[['X', 'Y']]"
   ]
  },
  {
   "cell_type": "code",
   "execution_count": 29,
   "metadata": {},
   "outputs": [
    {
     "data": {
      "text/html": [
       "<div>\n",
       "<style scoped>\n",
       "    .dataframe tbody tr th:only-of-type {\n",
       "        vertical-align: middle;\n",
       "    }\n",
       "\n",
       "    .dataframe tbody tr th {\n",
       "        vertical-align: top;\n",
       "    }\n",
       "\n",
       "    .dataframe thead th {\n",
       "        text-align: right;\n",
       "    }\n",
       "</style>\n",
       "<table border=\"1\" class=\"dataframe\">\n",
       "  <thead>\n",
       "    <tr style=\"text-align: right;\">\n",
       "      <th></th>\n",
       "      <th>X</th>\n",
       "      <th>Y</th>\n",
       "    </tr>\n",
       "  </thead>\n",
       "  <tbody>\n",
       "    <tr>\n",
       "      <th>0</th>\n",
       "      <td>6774947</td>\n",
       "      <td>606946</td>\n",
       "    </tr>\n",
       "    <tr>\n",
       "      <th>1</th>\n",
       "      <td>6787923</td>\n",
       "      <td>609936</td>\n",
       "    </tr>\n",
       "  </tbody>\n",
       "</table>\n",
       "</div>"
      ],
      "text/plain": [
       "         X       Y\n",
       "0  6774947  606946\n",
       "1  6787923  609936"
      ]
     },
     "execution_count": 29,
     "metadata": {},
     "output_type": "execute_result"
    }
   ],
   "source": [
    "previous_coords.head(2)"
   ]
  },
  {
   "cell_type": "code",
   "execution_count": 32,
   "metadata": {},
   "outputs": [
    {
     "name": "stderr",
     "output_type": "stream",
     "text": [
      "c:\\python36\\lib\\site-packages\\pyproj\\crs\\crs.py:53: FutureWarning: '+init=<authority>:<code>' syntax is deprecated. '<authority>:<code>' is the preferred initialization method. When making the change, be mindful of axis order changes: https://pyproj4.github.io/pyproj/stable/gotchas.html#axis-order-changes-in-proj-6\n",
      "  return _prepare_from_string(\" \".join(pjargs))\n",
      "c:\\python36\\lib\\site-packages\\pyproj\\crs\\crs.py:294: FutureWarning: '+init=<authority>:<code>' syntax is deprecated. '<authority>:<code>' is the preferred initialization method. When making the change, be mindful of axis order changes: https://pyproj4.github.io/pyproj/stable/gotchas.html#axis-order-changes-in-proj-6\n",
      "  projstring = _prepare_from_string(\" \".join((projstring, projkwargs)))\n",
      "c:\\python36\\lib\\site-packages\\pyproj\\crs\\crs.py:53: FutureWarning: '+init=<authority>:<code>' syntax is deprecated. '<authority>:<code>' is the preferred initialization method. When making the change, be mindful of axis order changes: https://pyproj4.github.io/pyproj/stable/gotchas.html#axis-order-changes-in-proj-6\n",
      "  return _prepare_from_string(\" \".join(pjargs))\n",
      "c:\\python36\\lib\\site-packages\\pyproj\\crs\\crs.py:294: FutureWarning: '+init=<authority>:<code>' syntax is deprecated. '<authority>:<code>' is the preferred initialization method. When making the change, be mindful of axis order changes: https://pyproj4.github.io/pyproj/stable/gotchas.html#axis-order-changes-in-proj-6\n",
      "  projstring = _prepare_from_string(\" \".join((projstring, projkwargs)))\n",
      "c:\\python36\\lib\\site-packages\\ipykernel_launcher.py:9: DeprecationWarning: This function is deprecated. See: https://pyproj4.github.io/pyproj/stable/gotchas.html#upgrading-to-pyproj-2-from-pyproj-1\n",
      "  if __name__ == '__main__':\n"
     ]
    }
   ],
   "source": [
    "Lat = []\n",
    "Long = []\n",
    "inProj = Proj(init='epsg:3006')\n",
    "outProj = Proj(init='epsg:4326')\n",
    "\n",
    "i = 0\n",
    "for X, Y in previous_coords.values:\n",
    "    x1,y1 = float(X),float(Y)\n",
    "    longitude,latitude = transform(inProj,outProj,y1, x1)\n",
    "    \n",
    "    Lat.append(latitude)\n",
    "    Long.append(longitude)\n",
    "\n",
    "events['latitude'] = Lat\n",
    "events['longitude'] = Long"
   ]
  },
  {
   "cell_type": "code",
   "execution_count": 34,
   "metadata": {},
   "outputs": [
    {
     "data": {
      "text/html": [
       "<div>\n",
       "<style scoped>\n",
       "    .dataframe tbody tr th:only-of-type {\n",
       "        vertical-align: middle;\n",
       "    }\n",
       "\n",
       "    .dataframe tbody tr th {\n",
       "        vertical-align: top;\n",
       "    }\n",
       "\n",
       "    .dataframe thead th {\n",
       "        text-align: right;\n",
       "    }\n",
       "</style>\n",
       "<table border=\"1\" class=\"dataframe\">\n",
       "  <thead>\n",
       "    <tr style=\"text-align: right;\">\n",
       "      <th></th>\n",
       "      <th>Skapad_År</th>\n",
       "      <th>Skapad_Månad</th>\n",
       "      <th>NAME</th>\n",
       "      <th>EVENT_CODE</th>\n",
       "      <th>EVENT_TEXT</th>\n",
       "      <th>Location_text</th>\n",
       "      <th>Väg</th>\n",
       "      <th>Riktning</th>\n",
       "      <th>LANE_MASK</th>\n",
       "      <th>CREATION_TIME</th>\n",
       "      <th>COMPLETION_TIME</th>\n",
       "      <th>START_TIME</th>\n",
       "      <th>END_TIME</th>\n",
       "      <th>Note</th>\n",
       "      <th>X</th>\n",
       "      <th>Y</th>\n",
       "      <th>latitude</th>\n",
       "      <th>longitude</th>\n",
       "    </tr>\n",
       "  </thead>\n",
       "  <tbody>\n",
       "    <tr>\n",
       "      <th>0</th>\n",
       "      <td>2019</td>\n",
       "      <td>Januari</td>\n",
       "      <td>2019-01-01/03:34:40-1/4</td>\n",
       "      <td>35</td>\n",
       "      <td>Olycka</td>\n",
       "      <td>E4 från Trafikplats Sörljusne (204) till Trafi...</td>\n",
       "      <td>E4</td>\n",
       "      <td>Syd</td>\n",
       "      <td>OOOOOOOOX|OOOOOOOOO</td>\n",
       "      <td>2019-01-01 03:34:40</td>\n",
       "      <td>2019-01-01 06:01:30</td>\n",
       "      <td>2019-01-01 03:34:40</td>\n",
       "      <td>2019-01-01 06:15:00</td>\n",
       "      <td>I höjd med Böles-Noran i södergående. En perso...</td>\n",
       "      <td>6774947</td>\n",
       "      <td>606946</td>\n",
       "      <td>61.094617</td>\n",
       "      <td>16.983451</td>\n",
       "    </tr>\n",
       "    <tr>\n",
       "      <th>1</th>\n",
       "      <td>2019</td>\n",
       "      <td>Januari</td>\n",
       "      <td>2019-01-01/05:17:01-1/4</td>\n",
       "      <td>379</td>\n",
       "      <td>Skadat räcke #</td>\n",
       "      <td>E4 från Trafikplats Sörljusne (204) till Trafi...</td>\n",
       "      <td>E4</td>\n",
       "      <td>Syd</td>\n",
       "      <td>OOOOOOOOX|OOOOOOOOO</td>\n",
       "      <td>2019-01-01 05:17:00</td>\n",
       "      <td>2019-01-01 05:18:02</td>\n",
       "      <td>2019-01-01 05:17:01</td>\n",
       "      <td>2019-01-01 16:00:00</td>\n",
       "      <td>I höjd med Böles-Noran i södergående. En perso...</td>\n",
       "      <td>6787923</td>\n",
       "      <td>609936</td>\n",
       "      <td>61.210213</td>\n",
       "      <td>17.046390</td>\n",
       "    </tr>\n",
       "  </tbody>\n",
       "</table>\n",
       "</div>"
      ],
      "text/plain": [
       "   Skapad_År Skapad_Månad                     NAME  EVENT_CODE  \\\n",
       "0       2019    Januari    2019-01-01/03:34:40-1/4          35   \n",
       "1       2019    Januari    2019-01-01/05:17:01-1/4         379   \n",
       "\n",
       "       EVENT_TEXT                                      Location_text Väg  \\\n",
       "0          Olycka  E4 från Trafikplats Sörljusne (204) till Trafi...  E4   \n",
       "1  Skadat räcke #  E4 från Trafikplats Sörljusne (204) till Trafi...  E4   \n",
       "\n",
       "  Riktning            LANE_MASK       CREATION_TIME     COMPLETION_TIME  \\\n",
       "0      Syd  OOOOOOOOX|OOOOOOOOO 2019-01-01 03:34:40 2019-01-01 06:01:30   \n",
       "1      Syd  OOOOOOOOX|OOOOOOOOO 2019-01-01 05:17:00 2019-01-01 05:18:02   \n",
       "\n",
       "           START_TIME             END_TIME  \\\n",
       "0 2019-01-01 03:34:40  2019-01-01 06:15:00   \n",
       "1 2019-01-01 05:17:01  2019-01-01 16:00:00   \n",
       "\n",
       "                                                Note        X       Y  \\\n",
       "0  I höjd med Böles-Noran i södergående. En perso...  6774947  606946   \n",
       "1  I höjd med Böles-Noran i södergående. En perso...  6787923  609936   \n",
       "\n",
       "    latitude  longitude  \n",
       "0  61.094617  16.983451  \n",
       "1  61.210213  17.046390  "
      ]
     },
     "execution_count": 34,
     "metadata": {},
     "output_type": "execute_result"
    }
   ],
   "source": [
    "events.head(2)"
   ]
  },
  {
   "cell_type": "code",
   "execution_count": 35,
   "metadata": {},
   "outputs": [],
   "source": [
    "events.to_csv(\"events-with-lat-long.csv\", sep=\",\")"
   ]
  },
  {
   "cell_type": "code",
   "execution_count": null,
   "metadata": {},
   "outputs": [],
   "source": []
  }
 ],
 "metadata": {
  "hide_input": false,
  "kernelspec": {
   "display_name": "Python 3",
   "language": "python",
   "name": "python3"
  },
  "language_info": {
   "codemirror_mode": {
    "name": "ipython",
    "version": 3
   },
   "file_extension": ".py",
   "mimetype": "text/x-python",
   "name": "python",
   "nbconvert_exporter": "python",
   "pygments_lexer": "ipython3",
   "version": "3.6.2"
  },
  "latex_envs": {
   "LaTeX_envs_menu_present": true,
   "autoclose": false,
   "autocomplete": true,
   "bibliofile": "biblio.bib",
   "cite_by": "apalike",
   "current_citInitial": 1,
   "eqLabelWithNumbers": true,
   "eqNumInitial": 1,
   "hotkeys": {
    "equation": "Ctrl-E",
    "itemize": "Ctrl-I"
   },
   "labels_anchors": false,
   "latex_user_defs": false,
   "report_style_numbering": false,
   "user_envs_cfg": false
  }
 },
 "nbformat": 4,
 "nbformat_minor": 4
}
