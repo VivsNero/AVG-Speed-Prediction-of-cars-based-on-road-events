{
 "cells": [
  {
   "cell_type": "code",
   "execution_count": 2,
   "metadata": {},
   "outputs": [],
   "source": [
    "import pandas as pd"
   ]
  },
  {
   "cell_type": "code",
   "execution_count": 28,
   "metadata": {},
   "outputs": [],
   "source": [
    "events = pd.read_excel(\"events.xlsx\")\n",
    "key_segmetns = pd.read_excel(\"key segments.xlsx\")\n",
    "segment_data = pd.read_csv(\"segment_data.csv\", sep=\";\")\n",
    "monday_speeds = pd.read_csv(\"monday-speeds.csv\", sep=\";\")\n",
    "segments_ids_nord_direction = pd.read_csv(\"north_direction_road_segments.txt\", header=None, names=['SegmentId'])"
   ]
  },
  {
   "cell_type": "markdown",
   "metadata": {},
   "source": [
    "### Event Document"
   ]
  },
  {
   "cell_type": "code",
   "execution_count": 29,
   "metadata": {},
   "outputs": [
    {
     "data": {
      "text/html": [
       "<div>\n",
       "<style scoped>\n",
       "    .dataframe tbody tr th:only-of-type {\n",
       "        vertical-align: middle;\n",
       "    }\n",
       "\n",
       "    .dataframe tbody tr th {\n",
       "        vertical-align: top;\n",
       "    }\n",
       "\n",
       "    .dataframe thead th {\n",
       "        text-align: right;\n",
       "    }\n",
       "</style>\n",
       "<table border=\"1\" class=\"dataframe\">\n",
       "  <thead>\n",
       "    <tr style=\"text-align: right;\">\n",
       "      <th></th>\n",
       "      <th>Skapad_År</th>\n",
       "      <th>Skapad_Månad</th>\n",
       "      <th>NAME</th>\n",
       "      <th>EVENT_CODE</th>\n",
       "      <th>EVENT_TEXT</th>\n",
       "      <th>Location_text</th>\n",
       "      <th>Väg</th>\n",
       "      <th>Riktning</th>\n",
       "      <th>LANE_MASK</th>\n",
       "      <th>CREATION_TIME</th>\n",
       "      <th>COMPLETION_TIME</th>\n",
       "      <th>START_TIME</th>\n",
       "      <th>END_TIME</th>\n",
       "      <th>Note</th>\n",
       "      <th>X</th>\n",
       "      <th>Y</th>\n",
       "    </tr>\n",
       "  </thead>\n",
       "  <tbody>\n",
       "    <tr>\n",
       "      <th>0</th>\n",
       "      <td>2019</td>\n",
       "      <td>Januari</td>\n",
       "      <td>2019-01-01/03:34:40-1/4</td>\n",
       "      <td>35</td>\n",
       "      <td>Olycka</td>\n",
       "      <td>E4 från Trafikplats Sörljusne (204) till Trafi...</td>\n",
       "      <td>E4</td>\n",
       "      <td>Syd</td>\n",
       "      <td>OOOOOOOOX|OOOOOOOOO</td>\n",
       "      <td>2019-01-01 03:34:40</td>\n",
       "      <td>2019-01-01 06:01:30</td>\n",
       "      <td>2019-01-01 03:34:40</td>\n",
       "      <td>2019-01-01 06:15:00</td>\n",
       "      <td>I höjd med Böles-Noran i södergående. En perso...</td>\n",
       "      <td>6774947</td>\n",
       "      <td>606946</td>\n",
       "    </tr>\n",
       "  </tbody>\n",
       "</table>\n",
       "</div>"
      ],
      "text/plain": [
       "   Skapad_År Skapad_Månad                     NAME  EVENT_CODE EVENT_TEXT  \\\n",
       "0       2019    Januari    2019-01-01/03:34:40-1/4          35     Olycka   \n",
       "\n",
       "                                       Location_text Väg Riktning  \\\n",
       "0  E4 från Trafikplats Sörljusne (204) till Trafi...  E4      Syd   \n",
       "\n",
       "             LANE_MASK       CREATION_TIME     COMPLETION_TIME  \\\n",
       "0  OOOOOOOOX|OOOOOOOOO 2019-01-01 03:34:40 2019-01-01 06:01:30   \n",
       "\n",
       "           START_TIME             END_TIME  \\\n",
       "0 2019-01-01 03:34:40  2019-01-01 06:15:00   \n",
       "\n",
       "                                                Note        X       Y  \n",
       "0  I höjd med Böles-Noran i södergående. En perso...  6774947  606946  "
      ]
     },
     "execution_count": 29,
     "metadata": {},
     "output_type": "execute_result"
    }
   ],
   "source": [
    "events.head(1)"
   ]
  },
  {
   "cell_type": "markdown",
   "metadata": {},
   "source": [
    "### SegmentID direction and coordinates"
   ]
  },
  {
   "cell_type": "code",
   "execution_count": 30,
   "metadata": {
    "scrolled": true
   },
   "outputs": [
    {
     "data": {
      "text/html": [
       "<div>\n",
       "<style scoped>\n",
       "    .dataframe tbody tr th:only-of-type {\n",
       "        vertical-align: middle;\n",
       "    }\n",
       "\n",
       "    .dataframe tbody tr th {\n",
       "        vertical-align: top;\n",
       "    }\n",
       "\n",
       "    .dataframe thead th {\n",
       "        text-align: right;\n",
       "    }\n",
       "</style>\n",
       "<table border=\"1\" class=\"dataframe\">\n",
       "  <thead>\n",
       "    <tr style=\"text-align: right;\">\n",
       "      <th></th>\n",
       "      <th>RouteID</th>\n",
       "      <th>SegmentID</th>\n",
       "      <th>ValidFrom</th>\n",
       "      <th>ValidTo</th>\n",
       "      <th>Längd</th>\n",
       "      <th>Färdriktn</th>\n",
       "      <th>Latitud</th>\n",
       "      <th>Longitud</th>\n",
       "      <th>Ordning</th>\n",
       "      <th>Väg</th>\n",
       "      <th>Antal kf</th>\n",
       "      <th>Hastighet</th>\n",
       "      <th>Korsning</th>\n",
       "    </tr>\n",
       "  </thead>\n",
       "  <tbody>\n",
       "    <tr>\n",
       "      <th>0</th>\n",
       "      <td>1520100057</td>\n",
       "      <td>1071754891</td>\n",
       "      <td>2019-04-16</td>\n",
       "      <td>9999-12-31 00:00:00</td>\n",
       "      <td>930</td>\n",
       "      <td>Syd</td>\n",
       "      <td>61,165335</td>\n",
       "      <td>16,851284</td>\n",
       "      <td>1</td>\n",
       "      <td>83</td>\n",
       "      <td>1kf</td>\n",
       "      <td>90</td>\n",
       "      <td>NaN</td>\n",
       "    </tr>\n",
       "  </tbody>\n",
       "</table>\n",
       "</div>"
      ],
      "text/plain": [
       "      RouteID   SegmentID  ValidFrom              ValidTo  Längd Färdriktn  \\\n",
       "0  1520100057  1071754891 2019-04-16  9999-12-31 00:00:00    930       Syd   \n",
       "\n",
       "     Latitud   Longitud  Ordning Väg Antal kf  Hastighet Korsning  \n",
       "0  61,165335  16,851284        1  83      1kf         90      NaN  "
      ]
     },
     "execution_count": 30,
     "metadata": {},
     "output_type": "execute_result"
    }
   ],
   "source": [
    "key_segments.head(1)"
   ]
  },
  {
   "cell_type": "markdown",
   "metadata": {},
   "source": [
    "### SegmentId meta data"
   ]
  },
  {
   "cell_type": "code",
   "execution_count": 31,
   "metadata": {},
   "outputs": [
    {
     "data": {
      "text/html": [
       "<div>\n",
       "<style scoped>\n",
       "    .dataframe tbody tr th:only-of-type {\n",
       "        vertical-align: middle;\n",
       "    }\n",
       "\n",
       "    .dataframe tbody tr th {\n",
       "        vertical-align: top;\n",
       "    }\n",
       "\n",
       "    .dataframe thead th {\n",
       "        text-align: right;\n",
       "    }\n",
       "</style>\n",
       "<table border=\"1\" class=\"dataframe\">\n",
       "  <thead>\n",
       "    <tr style=\"text-align: right;\">\n",
       "      <th></th>\n",
       "      <th>SegmentId</th>\n",
       "      <th>Length</th>\n",
       "      <th>Road</th>\n",
       "      <th>Antal kf</th>\n",
       "      <th>Max_speed</th>\n",
       "    </tr>\n",
       "  </thead>\n",
       "  <tbody>\n",
       "    <tr>\n",
       "      <th>0</th>\n",
       "      <td>1071754891</td>\n",
       "      <td>930</td>\n",
       "      <td>83</td>\n",
       "      <td>1kf</td>\n",
       "      <td>90</td>\n",
       "    </tr>\n",
       "  </tbody>\n",
       "</table>\n",
       "</div>"
      ],
      "text/plain": [
       "    SegmentId  Length Road Antal kf  Max_speed\n",
       "0  1071754891     930   83      1kf         90"
      ]
     },
     "execution_count": 31,
     "metadata": {},
     "output_type": "execute_result"
    }
   ],
   "source": [
    "segment_data.head(1)"
   ]
  },
  {
   "cell_type": "markdown",
   "metadata": {},
   "source": [
    "### SegmentID and speeds"
   ]
  },
  {
   "cell_type": "code",
   "execution_count": 32,
   "metadata": {},
   "outputs": [
    {
     "data": {
      "text/html": [
       "<div>\n",
       "<style scoped>\n",
       "    .dataframe tbody tr th:only-of-type {\n",
       "        vertical-align: middle;\n",
       "    }\n",
       "\n",
       "    .dataframe tbody tr th {\n",
       "        vertical-align: top;\n",
       "    }\n",
       "\n",
       "    .dataframe thead th {\n",
       "        text-align: right;\n",
       "    }\n",
       "</style>\n",
       "<table border=\"1\" class=\"dataframe\">\n",
       "  <thead>\n",
       "    <tr style=\"text-align: right;\">\n",
       "      <th></th>\n",
       "      <th>SegmentId</th>\n",
       "      <th>StartTime</th>\n",
       "      <th>EndTime</th>\n",
       "      <th>Speed</th>\n",
       "    </tr>\n",
       "  </thead>\n",
       "  <tbody>\n",
       "    <tr>\n",
       "      <th>0</th>\n",
       "      <td>1071707139</td>\n",
       "      <td>2019-06-03 00:00:00</td>\n",
       "      <td>2019-06-03 00:30:00</td>\n",
       "      <td>NaN</td>\n",
       "    </tr>\n",
       "  </tbody>\n",
       "</table>\n",
       "</div>"
      ],
      "text/plain": [
       "    SegmentId            StartTime              EndTime  Speed\n",
       "0  1071707139  2019-06-03 00:00:00  2019-06-03 00:30:00    NaN"
      ]
     },
     "execution_count": 32,
     "metadata": {},
     "output_type": "execute_result"
    }
   ],
   "source": [
    "monday_speeds.head(1)"
   ]
  },
  {
   "cell_type": "markdown",
   "metadata": {},
   "source": [
    "# The Goal\n",
    "\n",
    "- Create a deep learning model to predict traffic speed after a traffic event until it returns to normal speed"
   ]
  },
  {
   "cell_type": "markdown",
   "metadata": {},
   "source": [
    "# What variables needed to do predictions?\n",
    "- SegmentID\n",
    "- Speed in time\n",
    "- Events\n",
    "    - Code/Text\n",
    "    - CREATION_TIME \t\n",
    "    - COMPLETION_TIME \t\n",
    "    - START_TIME \t\n",
    "    - END_TIME\n",
    "\n",
    "- Weather data is not needed to do the project and therefore not included here. Most important is to link speed and events first and then we can expand with weather data"
   ]
  },
  {
   "cell_type": "markdown",
   "metadata": {},
   "source": [
    "# Observations"
   ]
  },
  {
   "cell_type": "markdown",
   "metadata": {},
   "source": [
    "#### Event Document\n",
    "- The event code\n",
    "- X and Y location (this is most likely not latitude and longitude)\n",
    "\n",
    "#### SegmentID and Speed\n",
    "- segmentID\n",
    "- Speed\n",
    "\n",
    "#### SegmentId and coordinates\n",
    "- SegmentID\n",
    "- Latitude and Longitude coordinates"
   ]
  },
  {
   "cell_type": "markdown",
   "metadata": {},
   "source": [
    "# My take on it"
   ]
  },
  {
   "cell_type": "markdown",
   "metadata": {},
   "source": [
    "It's unclear if Latitude and Longitude can be connected to the X,Y from the event document which is required to link SegmentID, Speed and Events.\n",
    "\n",
    "<br>\n",
    "\n",
    "Therefore, questions to answer\n",
    "- What type of coordinate do the X,Y represent in the event document since they don't look like latitude and longitude?"
   ]
  },
  {
   "cell_type": "code",
   "execution_count": 6,
   "metadata": {},
   "outputs": [],
   "source": [
    "df = pd.read_csv(\"../data/events-with-lat-long-segmentID.csv\", sep=\",\")"
   ]
  },
  {
   "cell_type": "code",
   "execution_count": 7,
   "metadata": {},
   "outputs": [],
   "source": [
    "this_segment = df[df['SegmentID'] == 226255131]"
   ]
  },
  {
   "cell_type": "code",
   "execution_count": 8,
   "metadata": {
    "scrolled": true
   },
   "outputs": [
    {
     "data": {
      "text/html": [
       "<div>\n",
       "<style scoped>\n",
       "    .dataframe tbody tr th:only-of-type {\n",
       "        vertical-align: middle;\n",
       "    }\n",
       "\n",
       "    .dataframe tbody tr th {\n",
       "        vertical-align: top;\n",
       "    }\n",
       "\n",
       "    .dataframe thead th {\n",
       "        text-align: right;\n",
       "    }\n",
       "</style>\n",
       "<table border=\"1\" class=\"dataframe\">\n",
       "  <thead>\n",
       "    <tr style=\"text-align: right;\">\n",
       "      <th></th>\n",
       "      <th>Unnamed: 0</th>\n",
       "      <th>Skapad_År</th>\n",
       "      <th>Skapad_Månad</th>\n",
       "      <th>NAME</th>\n",
       "      <th>EVENT_CODE</th>\n",
       "      <th>EVENT_TEXT</th>\n",
       "      <th>Location_text</th>\n",
       "      <th>Väg</th>\n",
       "      <th>Riktning</th>\n",
       "      <th>LANE_MASK</th>\n",
       "      <th>CREATION_TIME</th>\n",
       "      <th>COMPLETION_TIME</th>\n",
       "      <th>START_TIME</th>\n",
       "      <th>END_TIME</th>\n",
       "      <th>Note</th>\n",
       "      <th>X</th>\n",
       "      <th>Y</th>\n",
       "      <th>latitude</th>\n",
       "      <th>longitude</th>\n",
       "      <th>SegmentID</th>\n",
       "    </tr>\n",
       "  </thead>\n",
       "  <tbody>\n",
       "    <tr>\n",
       "      <th>1338</th>\n",
       "      <td>1338</td>\n",
       "      <td>2021</td>\n",
       "      <td>Juli</td>\n",
       "      <td>2021-07-27/23:16:50-1/4</td>\n",
       "      <td>40</td>\n",
       "      <td>Vägarbete</td>\n",
       "      <td>E4 från Axmartavlan (202) till Trafikplats Tön...</td>\n",
       "      <td>E4</td>\n",
       "      <td>Norr</td>\n",
       "      <td>OOOOOOOOO|XOOOOOOOO</td>\n",
       "      <td>2021-07-27 23:16:50</td>\n",
       "      <td>2021-07-28 00:32:15</td>\n",
       "      <td>2021-07-27 23:16:50</td>\n",
       "      <td>2021-07-28 00:30:00</td>\n",
       "      <td>Underhållsarbete i höjd med Högbacka. Risk för...</td>\n",
       "      <td>6765123</td>\n",
       "      <td>607357</td>\n",
       "      <td>61.00636</td>\n",
       "      <td>16.985545</td>\n",
       "      <td>226255131</td>\n",
       "    </tr>\n",
       "  </tbody>\n",
       "</table>\n",
       "</div>"
      ],
      "text/plain": [
       "      Unnamed: 0  Skapad_År Skapad_Månad                     NAME  EVENT_CODE  \\\n",
       "1338        1338       2021    Juli       2021-07-27/23:16:50-1/4          40   \n",
       "\n",
       "     EVENT_TEXT                                      Location_text Väg  \\\n",
       "1338  Vägarbete  E4 från Axmartavlan (202) till Trafikplats Tön...  E4   \n",
       "\n",
       "     Riktning            LANE_MASK        CREATION_TIME      COMPLETION_TIME  \\\n",
       "1338     Norr  OOOOOOOOO|XOOOOOOOO  2021-07-27 23:16:50  2021-07-28 00:32:15   \n",
       "\n",
       "               START_TIME             END_TIME  \\\n",
       "1338  2021-07-27 23:16:50  2021-07-28 00:30:00   \n",
       "\n",
       "                                                   Note        X       Y  \\\n",
       "1338  Underhållsarbete i höjd med Högbacka. Risk för...  6765123  607357   \n",
       "\n",
       "      latitude  longitude  SegmentID  \n",
       "1338  61.00636  16.985545  226255131  "
      ]
     },
     "execution_count": 8,
     "metadata": {},
     "output_type": "execute_result"
    }
   ],
   "source": [
    "this_segment"
   ]
  },
  {
   "cell_type": "code",
   "execution_count": 47,
   "metadata": {},
   "outputs": [
    {
     "name": "stdout",
     "output_type": "stream",
     "text": [
      "1071863723 8\n",
      "428403354 110\n",
      "428390707 3\n",
      "1071723605 90\n",
      "1071723800 3\n",
      "1071723711 213\n",
      "428389808 260\n",
      "428390704 102\n",
      "1071845849 3\n",
      "428399460 36\n",
      "428397749 5\n",
      "1071729662 28\n",
      "1071846041 70\n",
      "1071832339 69\n",
      "1071863882 42\n",
      "1071707121 4\n",
      "1071707139 3\n",
      "1071707171 8\n",
      "428389804 17\n",
      "226992808 3\n",
      "1071846229 12\n",
      "428397748 19\n",
      "1071832389 5\n",
      "226910815 2\n",
      "1071754109 39\n",
      "226944388 6\n",
      "1071845928 1\n",
      "226954600 3\n",
      "1071727508 6\n",
      "428403353 1\n",
      "1071891776 12\n",
      "1071723838 3\n",
      "1071727490 6\n",
      "1071703530 15\n",
      "428403369 16\n",
      "1071723686 5\n",
      "1071703593 5\n",
      "428402118 3\n",
      "1071754197 1\n",
      "1071754891 45\n",
      "428399463 1\n",
      "1071863848 3\n",
      "1071863900 3\n",
      "374870394 3\n",
      "1071727524 5\n",
      "1071723815 4\n",
      "1071723637 3\n",
      "1071727542 3\n",
      "375114290 2\n",
      "1071723676 6\n",
      "1071703625 8\n",
      "428390708 1\n",
      "375160804 6\n",
      "226736042 5\n",
      "1071860329 2\n",
      "1071845991 2\n",
      "1071845973 5\n",
      "428403366 7\n",
      "1071727530 48\n",
      "428389807 3\n",
      "1071845832 4\n",
      "1071845863 8\n",
      "1071790317 10\n",
      "1071846073 5\n",
      "1071863801 2\n",
      "428397715 2\n",
      "374986318 1\n",
      "1071754151 1\n",
      "1071729262 1\n",
      "1071832566 6\n",
      "1071729215 3\n",
      "374928641 2\n",
      "428389805 4\n",
      "1071729231 1\n",
      "1071863482 3\n",
      "1071863817 3\n",
      "428390709 3\n",
      "1071846005 3\n",
      "428390706 4\n",
      "1071754134 2\n",
      "1071863641 2\n",
      "428403355 3\n",
      "1071863659 3\n",
      "428390705 1\n",
      "428403373 1\n",
      "1071860537 1\n",
      "1071845882 4\n",
      "1071790234 1\n",
      "1071707092 7\n",
      "1071707154 1\n",
      "1071723854 5\n",
      "1071845814 3\n",
      "428403352 3\n",
      "1071832355 2\n",
      "1071754407 2\n",
      "1071790221 5\n",
      "226863110 4\n",
      "1071754420 1\n",
      "1071790344 10\n",
      "1071891804 1\n",
      "1071754235 2\n",
      "428403356 4\n",
      "1071846212 2\n",
      "1071863705 4\n",
      "1071754507 2\n",
      "1071832393 2\n",
      "1071845955 3\n",
      "1071790380 1\n",
      "1071832374 1\n",
      "428399467 1\n",
      "428403367 1\n",
      "1071860295 1\n",
      "1071790267 1\n",
      "1071723768 1\n",
      "374951704 1\n",
      "428397753 1\n",
      "226255131 1\n",
      "428397751 1\n",
      "428399458 1\n",
      "1071845897 1\n",
      "1071754259 1\n",
      "1071703610 1\n",
      "1071832301 1\n",
      "428408668 1\n",
      "428403357 1\n",
      "1071754019 1\n"
     ]
    }
   ],
   "source": [
    "segment_ids = []\n",
    "segment_ids_count = []\n",
    "\n",
    "for segment_id in df['SegmentID'].values:\n",
    "    \n",
    "    \n",
    "    counts = df['SegmentID'].value_counts()\n",
    "    \n",
    "    #print(counts)\n",
    "    \n",
    "    if segment_id not in segment_ids:\n",
    "        \n",
    "        \n",
    "        count = counts.get(segment_id)\n",
    "        \n",
    "        print(segment_id, count)\n",
    "        \n",
    "        segment_ids_count = [str(segment_id), count]\n",
    "        segment_ids.append(segment_id)\n",
    "        "
   ]
  },
  {
   "cell_type": "markdown",
   "metadata": {},
   "source": [
    "We can see that segment_id: 428389808 has the most events"
   ]
  },
  {
   "cell_type": "code",
   "execution_count": null,
   "metadata": {},
   "outputs": [],
   "source": []
  }
 ],
 "metadata": {
  "hide_input": false,
  "kernelspec": {
   "display_name": "Python 3",
   "language": "python",
   "name": "python3"
  },
  "language_info": {
   "codemirror_mode": {
    "name": "ipython",
    "version": 3
   },
   "file_extension": ".py",
   "mimetype": "text/x-python",
   "name": "python",
   "nbconvert_exporter": "python",
   "pygments_lexer": "ipython3",
   "version": "3.6.15"
  },
  "latex_envs": {
   "LaTeX_envs_menu_present": true,
   "autoclose": false,
   "autocomplete": true,
   "bibliofile": "biblio.bib",
   "cite_by": "apalike",
   "current_citInitial": 1,
   "eqLabelWithNumbers": true,
   "eqNumInitial": 1,
   "hotkeys": {
    "equation": "Ctrl-E",
    "itemize": "Ctrl-I"
   },
   "labels_anchors": false,
   "latex_user_defs": false,
   "report_style_numbering": false,
   "user_envs_cfg": false
  }
 },
 "nbformat": 4,
 "nbformat_minor": 4
}
