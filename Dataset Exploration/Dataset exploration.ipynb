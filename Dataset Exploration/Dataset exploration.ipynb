{
 "cells": [
  {
   "cell_type": "code",
   "execution_count": 1,
   "metadata": {},
   "outputs": [],
   "source": [
    "import pandas as pd"
   ]
  },
  {
   "cell_type": "code",
   "execution_count": 28,
   "metadata": {},
   "outputs": [],
   "source": [
    "events = pd.read_excel(\"events.xlsx\")\n",
    "key_segmetns = pd.read_excel(\"key segments.xlsx\")\n",
    "segment_data = pd.read_csv(\"segment_data.csv\", sep=\";\")\n",
    "monday_speeds = pd.read_csv(\"monday-speeds.csv\", sep=\";\")\n",
    "segments_ids_nord_direction = pd.read_csv(\"north_direction_road_segments.txt\", header=None, names=['SegmentId'])"
   ]
  },
  {
   "cell_type": "markdown",
   "metadata": {},
   "source": [
    "### Event Document"
   ]
  },
  {
   "cell_type": "code",
   "execution_count": 29,
   "metadata": {},
   "outputs": [
    {
     "data": {
      "text/html": [
       "<div>\n",
       "<style scoped>\n",
       "    .dataframe tbody tr th:only-of-type {\n",
       "        vertical-align: middle;\n",
       "    }\n",
       "\n",
       "    .dataframe tbody tr th {\n",
       "        vertical-align: top;\n",
       "    }\n",
       "\n",
       "    .dataframe thead th {\n",
       "        text-align: right;\n",
       "    }\n",
       "</style>\n",
       "<table border=\"1\" class=\"dataframe\">\n",
       "  <thead>\n",
       "    <tr style=\"text-align: right;\">\n",
       "      <th></th>\n",
       "      <th>Skapad_År</th>\n",
       "      <th>Skapad_Månad</th>\n",
       "      <th>NAME</th>\n",
       "      <th>EVENT_CODE</th>\n",
       "      <th>EVENT_TEXT</th>\n",
       "      <th>Location_text</th>\n",
       "      <th>Väg</th>\n",
       "      <th>Riktning</th>\n",
       "      <th>LANE_MASK</th>\n",
       "      <th>CREATION_TIME</th>\n",
       "      <th>COMPLETION_TIME</th>\n",
       "      <th>START_TIME</th>\n",
       "      <th>END_TIME</th>\n",
       "      <th>Note</th>\n",
       "      <th>X</th>\n",
       "      <th>Y</th>\n",
       "    </tr>\n",
       "  </thead>\n",
       "  <tbody>\n",
       "    <tr>\n",
       "      <th>0</th>\n",
       "      <td>2019</td>\n",
       "      <td>Januari</td>\n",
       "      <td>2019-01-01/03:34:40-1/4</td>\n",
       "      <td>35</td>\n",
       "      <td>Olycka</td>\n",
       "      <td>E4 från Trafikplats Sörljusne (204) till Trafi...</td>\n",
       "      <td>E4</td>\n",
       "      <td>Syd</td>\n",
       "      <td>OOOOOOOOX|OOOOOOOOO</td>\n",
       "      <td>2019-01-01 03:34:40</td>\n",
       "      <td>2019-01-01 06:01:30</td>\n",
       "      <td>2019-01-01 03:34:40</td>\n",
       "      <td>2019-01-01 06:15:00</td>\n",
       "      <td>I höjd med Böles-Noran i södergående. En perso...</td>\n",
       "      <td>6774947</td>\n",
       "      <td>606946</td>\n",
       "    </tr>\n",
       "  </tbody>\n",
       "</table>\n",
       "</div>"
      ],
      "text/plain": [
       "   Skapad_År Skapad_Månad                     NAME  EVENT_CODE EVENT_TEXT  \\\n",
       "0       2019    Januari    2019-01-01/03:34:40-1/4          35     Olycka   \n",
       "\n",
       "                                       Location_text Väg Riktning  \\\n",
       "0  E4 från Trafikplats Sörljusne (204) till Trafi...  E4      Syd   \n",
       "\n",
       "             LANE_MASK       CREATION_TIME     COMPLETION_TIME  \\\n",
       "0  OOOOOOOOX|OOOOOOOOO 2019-01-01 03:34:40 2019-01-01 06:01:30   \n",
       "\n",
       "           START_TIME             END_TIME  \\\n",
       "0 2019-01-01 03:34:40  2019-01-01 06:15:00   \n",
       "\n",
       "                                                Note        X       Y  \n",
       "0  I höjd med Böles-Noran i södergående. En perso...  6774947  606946  "
      ]
     },
     "execution_count": 29,
     "metadata": {},
     "output_type": "execute_result"
    }
   ],
   "source": [
    "events.head(1)"
   ]
  },
  {
   "cell_type": "markdown",
   "metadata": {},
   "source": [
    "### SegmentID direction and coordinates"
   ]
  },
  {
   "cell_type": "code",
   "execution_count": 30,
   "metadata": {
    "scrolled": true
   },
   "outputs": [
    {
     "data": {
      "text/html": [
       "<div>\n",
       "<style scoped>\n",
       "    .dataframe tbody tr th:only-of-type {\n",
       "        vertical-align: middle;\n",
       "    }\n",
       "\n",
       "    .dataframe tbody tr th {\n",
       "        vertical-align: top;\n",
       "    }\n",
       "\n",
       "    .dataframe thead th {\n",
       "        text-align: right;\n",
       "    }\n",
       "</style>\n",
       "<table border=\"1\" class=\"dataframe\">\n",
       "  <thead>\n",
       "    <tr style=\"text-align: right;\">\n",
       "      <th></th>\n",
       "      <th>RouteID</th>\n",
       "      <th>SegmentID</th>\n",
       "      <th>ValidFrom</th>\n",
       "      <th>ValidTo</th>\n",
       "      <th>Längd</th>\n",
       "      <th>Färdriktn</th>\n",
       "      <th>Latitud</th>\n",
       "      <th>Longitud</th>\n",
       "      <th>Ordning</th>\n",
       "      <th>Väg</th>\n",
       "      <th>Antal kf</th>\n",
       "      <th>Hastighet</th>\n",
       "      <th>Korsning</th>\n",
       "    </tr>\n",
       "  </thead>\n",
       "  <tbody>\n",
       "    <tr>\n",
       "      <th>0</th>\n",
       "      <td>1520100057</td>\n",
       "      <td>1071754891</td>\n",
       "      <td>2019-04-16</td>\n",
       "      <td>9999-12-31 00:00:00</td>\n",
       "      <td>930</td>\n",
       "      <td>Syd</td>\n",
       "      <td>61,165335</td>\n",
       "      <td>16,851284</td>\n",
       "      <td>1</td>\n",
       "      <td>83</td>\n",
       "      <td>1kf</td>\n",
       "      <td>90</td>\n",
       "      <td>NaN</td>\n",
       "    </tr>\n",
       "  </tbody>\n",
       "</table>\n",
       "</div>"
      ],
      "text/plain": [
       "      RouteID   SegmentID  ValidFrom              ValidTo  Längd Färdriktn  \\\n",
       "0  1520100057  1071754891 2019-04-16  9999-12-31 00:00:00    930       Syd   \n",
       "\n",
       "     Latitud   Longitud  Ordning Väg Antal kf  Hastighet Korsning  \n",
       "0  61,165335  16,851284        1  83      1kf         90      NaN  "
      ]
     },
     "execution_count": 30,
     "metadata": {},
     "output_type": "execute_result"
    }
   ],
   "source": [
    "key_segments.head(1)"
   ]
  },
  {
   "cell_type": "markdown",
   "metadata": {},
   "source": [
    "### SegmentId meta data"
   ]
  },
  {
   "cell_type": "code",
   "execution_count": 31,
   "metadata": {},
   "outputs": [
    {
     "data": {
      "text/html": [
       "<div>\n",
       "<style scoped>\n",
       "    .dataframe tbody tr th:only-of-type {\n",
       "        vertical-align: middle;\n",
       "    }\n",
       "\n",
       "    .dataframe tbody tr th {\n",
       "        vertical-align: top;\n",
       "    }\n",
       "\n",
       "    .dataframe thead th {\n",
       "        text-align: right;\n",
       "    }\n",
       "</style>\n",
       "<table border=\"1\" class=\"dataframe\">\n",
       "  <thead>\n",
       "    <tr style=\"text-align: right;\">\n",
       "      <th></th>\n",
       "      <th>SegmentId</th>\n",
       "      <th>Length</th>\n",
       "      <th>Road</th>\n",
       "      <th>Antal kf</th>\n",
       "      <th>Max_speed</th>\n",
       "    </tr>\n",
       "  </thead>\n",
       "  <tbody>\n",
       "    <tr>\n",
       "      <th>0</th>\n",
       "      <td>1071754891</td>\n",
       "      <td>930</td>\n",
       "      <td>83</td>\n",
       "      <td>1kf</td>\n",
       "      <td>90</td>\n",
       "    </tr>\n",
       "  </tbody>\n",
       "</table>\n",
       "</div>"
      ],
      "text/plain": [
       "    SegmentId  Length Road Antal kf  Max_speed\n",
       "0  1071754891     930   83      1kf         90"
      ]
     },
     "execution_count": 31,
     "metadata": {},
     "output_type": "execute_result"
    }
   ],
   "source": [
    "segment_data.head(1)"
   ]
  },
  {
   "cell_type": "markdown",
   "metadata": {},
   "source": [
    "### SegmentID and speeds"
   ]
  },
  {
   "cell_type": "code",
   "execution_count": 32,
   "metadata": {},
   "outputs": [
    {
     "data": {
      "text/html": [
       "<div>\n",
       "<style scoped>\n",
       "    .dataframe tbody tr th:only-of-type {\n",
       "        vertical-align: middle;\n",
       "    }\n",
       "\n",
       "    .dataframe tbody tr th {\n",
       "        vertical-align: top;\n",
       "    }\n",
       "\n",
       "    .dataframe thead th {\n",
       "        text-align: right;\n",
       "    }\n",
       "</style>\n",
       "<table border=\"1\" class=\"dataframe\">\n",
       "  <thead>\n",
       "    <tr style=\"text-align: right;\">\n",
       "      <th></th>\n",
       "      <th>SegmentId</th>\n",
       "      <th>StartTime</th>\n",
       "      <th>EndTime</th>\n",
       "      <th>Speed</th>\n",
       "    </tr>\n",
       "  </thead>\n",
       "  <tbody>\n",
       "    <tr>\n",
       "      <th>0</th>\n",
       "      <td>1071707139</td>\n",
       "      <td>2019-06-03 00:00:00</td>\n",
       "      <td>2019-06-03 00:30:00</td>\n",
       "      <td>NaN</td>\n",
       "    </tr>\n",
       "  </tbody>\n",
       "</table>\n",
       "</div>"
      ],
      "text/plain": [
       "    SegmentId            StartTime              EndTime  Speed\n",
       "0  1071707139  2019-06-03 00:00:00  2019-06-03 00:30:00    NaN"
      ]
     },
     "execution_count": 32,
     "metadata": {},
     "output_type": "execute_result"
    }
   ],
   "source": [
    "monday_speeds.head(1)"
   ]
  },
  {
   "cell_type": "markdown",
   "metadata": {},
   "source": [
    "# The Goal\n",
    "\n",
    "- Create a deep learning model to predict traffic speed after a traffic event until it returns to normal speed"
   ]
  },
  {
   "cell_type": "markdown",
   "metadata": {},
   "source": [
    "# What variables needed to do predictions?\n",
    "- SegmentID\n",
    "- Speed in time\n",
    "- Events\n",
    "    - Code/Text\n",
    "    - CREATION_TIME \t\n",
    "    - COMPLETION_TIME \t\n",
    "    - START_TIME \t\n",
    "    - END_TIME\n"
   ]
  },
  {
   "cell_type": "markdown",
   "metadata": {},
   "source": [
    "# Observations"
   ]
  },
  {
   "cell_type": "markdown",
   "metadata": {},
   "source": [
    "#### Event Document\n",
    "- The event code\n",
    "- X and Y location (this is most likely not latitude and longitude)\n",
    "\n",
    "#### SegmentID and Speed\n",
    "- segmentID\n",
    "- Speed\n",
    "\n",
    "#### SegmentId and coordinates\n",
    "- SegmentID\n",
    "- Latitude and Longitude coordinates"
   ]
  },
  {
   "cell_type": "markdown",
   "metadata": {},
   "source": [
    "# My take on it"
   ]
  },
  {
   "cell_type": "markdown",
   "metadata": {},
   "source": [
    "It's unclear if Latitude and Longitude can be connected to the X,Y from the event document which is required to link SegmentID, Speed and Events.\n",
    "\n",
    "<br>\n",
    "\n",
    "Therefore\n",
    "- Further investigation has to be done into the coordinates of the Event & key_segments documents"
   ]
  },
  {
   "cell_type": "code",
   "execution_count": null,
   "metadata": {},
   "outputs": [],
   "source": []
  }
 ],
 "metadata": {
  "hide_input": false,
  "kernelspec": {
   "display_name": "Python 3",
   "language": "python",
   "name": "python3"
  },
  "language_info": {
   "codemirror_mode": {
    "name": "ipython",
    "version": 3
   },
   "file_extension": ".py",
   "mimetype": "text/x-python",
   "name": "python",
   "nbconvert_exporter": "python",
   "pygments_lexer": "ipython3",
   "version": "3.5.2"
  },
  "latex_envs": {
   "LaTeX_envs_menu_present": true,
   "autoclose": false,
   "autocomplete": true,
   "bibliofile": "biblio.bib",
   "cite_by": "apalike",
   "current_citInitial": 1,
   "eqLabelWithNumbers": true,
   "eqNumInitial": 1,
   "hotkeys": {
    "equation": "Ctrl-E",
    "itemize": "Ctrl-I"
   },
   "labels_anchors": false,
   "latex_user_defs": false,
   "report_style_numbering": false,
   "user_envs_cfg": false
  }
 },
 "nbformat": 4,
 "nbformat_minor": 4
}
